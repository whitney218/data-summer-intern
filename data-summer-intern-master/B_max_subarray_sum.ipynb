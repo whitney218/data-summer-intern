{
 "cells": [
  {
   "cell_type": "markdown",
   "metadata": {
    "collapsed": true
   },
   "source": [
    "### Task B. Max Sub-list Sum\n",
    "\n",
    "这道题需要你用 Python 3 完成一个返回整数列表中，求得子列表元素的最大和的函数。举个例子，列表 `arr = [-2, 1, -3, 4, -1, 2, 1, -5, 4]` 的和最大子列表为 `[4, -1, 2, 1]`，和为6，其他任意子列表的和均小于6。\n",
    "\n",
    "你需要完成一个名为 `max_sub_list` 的函数，该函数接收一个只含有整数类型元素的列表，并返回一个整数，该整数为输入列表中最大和子列表的各项元素之和。\n",
    "\n",
    "例如：\n",
    "\n",
    "```\n",
    "max_sub_list([-2, 1, -3, 4, -1, 2, 1, -5, 4])\n",
    "```\n",
    "\n",
    "应该返回 `6`\n",
    "\n",
    "输入列表只可能是整数列表（不过也有可能是空列表），你可以不必在代码中专门验证输入。\n",
    "\n",
    "另外，如果输入列表的所有元素均为负数，则和为0。"
   ]
  },
  {
   "cell_type": "code",
   "execution_count": 15,
   "metadata": {},
   "outputs": [],
   "source": [
    "def max_sub_list(arr):\n",
    "    if arr==[]:\n",
    "        max_sublist=([0])\n",
    "    else:    \n",
    "        sublist=[]\n",
    "        max_sublist=[]\n",
    "        max_val=arr[0]\n",
    "        for i in range(1,len(arr)):\n",
    "            for j in range(len(arr)-i):\n",
    "                sublist=arr[j:j+i]\n",
    "                val=sum(sublist)\n",
    "                if val>max_val:\n",
    "                    max_val=val\n",
    "                    max_sublist=sublist\n",
    "        negdetect=0           \n",
    "        for i in range(len(arr)):\n",
    "            if arr[i]<0:\n",
    "                negdetect+=1\n",
    "\n",
    "        if negdetect==len(arr):\n",
    "            max_sublist=([0])\n",
    "        \n",
    "        \n",
    "    return sum(max_sublist)\n",
    "    "
   ]
  },
  {
   "cell_type": "code",
   "execution_count": 16,
   "metadata": {},
   "outputs": [
    {
     "name": "stdout",
     "output_type": "stream",
     "text": [
      "Test OK\n"
     ]
    }
   ],
   "source": [
    "## Testing Code, DO NOT MODIFY\n",
    "## 请运行本 Cell，得到 Test OK 后提交\n",
    "\n",
    "from utils import Test_PB\n",
    "\n",
    "t = Test_PB()\n",
    "t.test(max_sub_list)"
   ]
  },
  {
   "cell_type": "code",
   "execution_count": null,
   "metadata": {
    "collapsed": true
   },
   "outputs": [],
   "source": []
  }
 ],
 "metadata": {
  "anaconda-cloud": {},
  "kernelspec": {
   "display_name": "Python 3",
   "language": "python",
   "name": "python3"
  },
  "language_info": {
   "codemirror_mode": {
    "name": "ipython",
    "version": 3
   },
   "file_extension": ".py",
   "mimetype": "text/x-python",
   "name": "python",
   "nbconvert_exporter": "python",
   "pygments_lexer": "ipython3",
   "version": "3.6.0"
  }
 },
 "nbformat": 4,
 "nbformat_minor": 2
}
